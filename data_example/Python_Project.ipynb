{
 "cells": [
  {
   "cell_type": "code",
   "execution_count": 46,
   "metadata": {},
   "outputs": [
    {
     "name": "stdout",
     "output_type": "stream",
     "text": [
      "['A11' 'B12' 'C13']\n",
      "===========fit loop===================================================\n",
      "=============Subtraction loop=========================================\n"
     ]
    }
   ],
   "source": [
    "import pandas as pd\n",
    "import numpy as np\n",
    "#import pyodbc\n",
    "\n",
    "\n",
    "#generate SQL string===========================================================\n",
    "#dev_list = ['A1','B2']\n",
    "#\n",
    "#def str_gen(dev_list):\n",
    "#    sql_str = ''\n",
    "#    \n",
    "#    for wafer in range(len(dev_list)):\n",
    "#        if wafer == 0:\n",
    "#            sql_str =sql_str + f\"DEV_SN LIKE '%{dev_list[wafer]}%'\"\n",
    "#        else:\n",
    "#            sql_str =sql_str + f\" OR DEV_SN LIKE '%{dev_list[wafer]}%'\"\n",
    "#    return sql_str\n",
    " \n",
    "\n",
    "#SQL connection and df generation==============================================\n",
    "#conn = pyodbc.connect('DRIVER={SQL Server};SERVER=++SERVER NAME++;DATABASE=++DATABASE++;Integrated Security=True;Connection Timeout=3')\n",
    "#\n",
    "#SQL = f\"select * from [TABLE]  WHERE ++OTHER++ LIKE '%SOMETHING%' AND {str_gen(dev_list)}\"\n",
    "#\n",
    "#df = pd.read_sql(SQL, conn)\n",
    "#==============================================================================    \n",
    "\n",
    "\n",
    "\n",
    "#==============================================================================\n",
    "#CSV read\n",
    "df=pd.read_csv('Example_Data_CSV2.csv')\n",
    "\n",
    "\n",
    "#initialize df and lists=======================================================\n",
    "sub = []\n",
    "sub_dev = []\n",
    "col_list = []\n",
    "dfsub = pd.DataFrame()\n",
    "dfsub2 = pd.DataFrame()\n",
    "dfout = pd.DataFrame()\n",
    "#list of times to interpolate\n",
    "time_list= [1.5,3.6,11.5]\n",
    "#list of col to subtract\n",
    "data_list = ['DATA_A','DATA_B','DATA_C']\n",
    "#subtracted values\n",
    "sub_list = ['DATA_A_SUB','DATA_B_SUB','DATA_C_SUB']\n",
    "\n",
    "\n",
    "#list of all unique SNs and columns============================================\n",
    "dev = df['DEV_SN'].unique()\n",
    "\n",
    "print(dev)\n",
    "\n",
    "\n",
    "#lists for analysis============================================================\n",
    "\n",
    "\n",
    "\n",
    "#need a function to filter data if max time in series is < max(time_list)======\n",
    "for i in dev:\n",
    "    dfin = df.loc[(df['DEV_SN']== i)]\n",
    "    if dfin['TIME'].max() > 1:\n",
    "        sub_dev.append(i)\n",
    "        \n",
    "#==============================================================================\n",
    "        \n",
    "\n",
    "### add a row that indicates max TIME, these are used to filter the data later\n",
    "df['MAX1.5']=''\n",
    "df['MAX3.6']=''\n",
    "df['MAX11.5']=''\n",
    "for i in sub_dev:\n",
    "    dfin = df.loc[(df['DEV_SN']== i)]\n",
    "    for i in dfin.index:\n",
    "        df.at[i, 'MAX1.5'] = 1.5 if dfin['TIME'].max() > 1.5 else 0\n",
    "        df.at[i, 'MAX3.6'] = 3.6 if dfin['TIME'].max() > 3.6 else 0\n",
    "        df.at[i, 'MAX11.5'] = 11.5 if dfin['TIME'].max() > 11.5 else 0\n",
    "    \n",
    "# create a col_list used later for ffill()           \n",
    "for col in df.columns:\n",
    "    col_list.append(col)\n",
    "\n",
    "for col in data_list:\n",
    "    col_list.remove(col)\n",
    "\n",
    "        \n",
    "#loop to do polynomial fit to find values======================================\n",
    "\n",
    "print('===========fit loop===================================================')\n",
    "for i in sub_dev:\n",
    "    addrow_list = []\n",
    "    for t in time_list:\n",
    "        row = {'TIME':t, 'DEV_SN':i}\n",
    "        \n",
    "        for data in data_list:\n",
    "            dfin = df.loc[(df['DEV_SN']== i)]\n",
    "            #remove all the rows with any values of 999\n",
    "            dfin=dfin[dfin.DATA_A != 999]\n",
    "            x=dfin['TIME'].values\n",
    "            y=dfin[data].values\n",
    "            #only fit if there are more than one data point\n",
    "            if len(y) > 1:\n",
    "                z=np.polyfit(x,y,3)\n",
    "                ynew=np.polyval(z,t)\n",
    "                row[data]=ynew\n",
    "        addrow_list.append(row)            \n",
    "    add = dfin.append(addrow_list, ignore_index=True)\n",
    "    dfsub = dfsub.append(add)\n",
    "    \n",
    "#loop to do polynomial fit to find values======================================\n",
    "\n",
    "\n",
    "\n",
    "# loop to do the subtraction===================================================\n",
    "print('=============Subtraction loop=========================================')\n",
    "for i in sub_dev:\n",
    "    dfin2 = dfsub.loc[dfsub['DEV_SN']== i].copy()\n",
    "\n",
    "    #do the subtraction and set values in subtraction col\n",
    "    for s,d in zip(sub_list,data_list):\n",
    "        dfin2[s]= dfin2[d] - dfin2.loc[dfin2.TIME.idxmin() ,d]\n",
    "\n",
    "    #fill in empty values in the new fit rows with their previous values, for instance DEV_SN\n",
    "    for i in col_list:\n",
    "        \n",
    "        dfin2[i]=dfin2[i].ffill()\n",
    "\n",
    "\n",
    "    #append to df\n",
    "    dfsub2 = dfsub2.append(dfin2)\n",
    "\n",
    "# export data to csv===========================================================\n",
    "    \n",
    "dfsub2.to_csv(r'C:\\Users\\jiveland\\Desktop\\python\\python_project\\data_example\\export_dataframe_EXAMPLE.csv', index = None, header=True)"
   ]
  },
  {
   "cell_type": "code",
   "execution_count": 47,
   "metadata": {},
   "outputs": [
    {
     "data": {
      "image/png": "[encoded data removed]",
      "text/plain": [
       "<Figure size 432x432 with 1 Axes>"
      ]
     },
     "metadata": {
      "needs_background": "light"
     },
     "output_type": "display_data"
    }
   ],
   "source": [
    "import pandas as pd\n",
    "import matplotlib.pyplot as plt\n",
    "\n",
    "df=pd.read_csv('export_dataframe_EXAMPLE.csv')\n",
    "\n",
    "dev_list=['C13','B12','A11']\n",
    "\n",
    "# x_list=['TIME','TIME']\n",
    "# y_list=['DATA_A','DATA_A_SUB']\n",
    "\n",
    "x_list=['TIME']\n",
    "y_list=['DATA_A_SUB']\n",
    "\n",
    "#iterate through the dev in the dev_list\n",
    "for dev in dev_list:\n",
    "    #create dfin for each dev\n",
    "    dfin = df.loc[(df['DEV_SN']== dev)]\n",
    "    dfin.sort_values(by=['TIME'], inplace=False)\n",
    "   \n",
    "    #iterate thorugh the list of plots in the x_list and y_list\n",
    "    for x,y in zip(x_list,y_list):\n",
    "        #iterate through the hours\n",
    "\n",
    "        #select on data for the ith hour\n",
    "        \n",
    "        \n",
    "        plt.plot(x, y, data=dfin, label=f'{dev}', linestyle='none',marker='o')\n",
    "        plt.title(f'{dev}')\n",
    "        plt.xlabel(x)\n",
    "        plt.ylabel('DATA')\n",
    "        plt.grid(which='both',axis='both',color='black', linestyle='-', linewidth=0.1)\n",
    "        plt.gca().legend(loc='best')\n",
    "        plt.gcf().set_size_inches(6, 6)\n",
    "       \n",
    "        \n",
    "plt.savefig(f'{dev}_{y}.png',dpi=200)\n",
    "plt.show()"
   ]
  },
  {
   "cell_type": "code",
   "execution_count": 48,
   "metadata": {},
   "outputs": [
    {
     "data": {
      "image/png": "[encoded data removed]",
      "text/plain": [
       "<Figure size 432x432 with 1 Axes>"
      ]
     },
     "metadata": {
      "needs_background": "light"
     },
     "output_type": "display_data"
    },
    {
     "data": {
      "image/png": "[encoded data removed]",
      "text/plain": [
       "<Figure size 432x432 with 1 Axes>"
      ]
     },
     "metadata": {
      "needs_background": "light"
     },
     "output_type": "display_data"
    },
    {
     "data": {
      "image/png": "[encoded data removed]",
      "text/plain": [
       "<Figure size 432x432 with 1 Axes>"
      ]
     },
     "metadata": {
      "needs_background": "light"
     },
     "output_type": "display_data"
    }
   ],
   "source": [
    "import pandas as pd\n",
    "import matplotlib.pyplot as plt\n",
    "\n",
    "df=pd.read_csv('export_dataframe_EXAMPLE.csv')\n",
    "\n",
    "dev_list=['C13','B12','A11']\n",
    "\n",
    "x_list=['TIME','TIME']\n",
    "y_list=['DATA_A','DATA_A_SUB']\n",
    "\n",
    "# x_list=['TIME']\n",
    "# y_list=['DATA_A']\n",
    "\n",
    "#iterate through the dev in the dev_list\n",
    "for dev in dev_list:\n",
    "    #create dfin for each dev\n",
    "    dfin = df.loc[(df['DEV_SN']== dev)]\n",
    "    dfin.sort_values(by=['TIME'], inplace=False)\n",
    "   \n",
    "    #iterate thorugh the list of plots in the x_list and y_list\n",
    "    for x,y in zip(x_list,y_list):\n",
    "        #iterate through the hours\n",
    "\n",
    "        #select on data for the ith hour\n",
    "        \n",
    "        \n",
    "        plt.plot(x, y, data=dfin, label=f'{y}', linestyle='none',marker='o')\n",
    "        plt.title(f'{dev}')\n",
    "        plt.xlabel(x)\n",
    "        plt.ylabel('DATA')\n",
    "        plt.grid(which='both',axis='both',color='black', linestyle='-', linewidth=0.1)\n",
    "        plt.gca().legend(loc='best')\n",
    "        plt.gcf().set_size_inches(6, 6)\n",
    "       \n",
    "        \n",
    "    plt.savefig(f'{dev}_{y}.png',dpi=200)\n",
    "    plt.show()"
   ]
  },
  {
   "cell_type": "code",
   "execution_count": null,
   "metadata": {},
   "outputs": [],
   "source": []
  }
 ],
 "metadata": {
  "kernelspec": {
   "display_name": "Python 3",
   "language": "python",
   "name": "python3"
  },
  "language_info": {
   "codemirror_mode": {
    "name": "ipython",
    "version": 3
   },
   "file_extension": ".py",
   "mimetype": "text/x-python",
   "name": "python",
   "nbconvert_exporter": "python",
   "pygments_lexer": "ipython3",
   "version": "3.7.4"
  }
 },
 "nbformat": 4,
 "nbformat_minor": 2
}
